{
 "cells": [
  {
   "cell_type": "code",
   "execution_count": null,
   "metadata": {},
   "outputs": [],
   "source": [
    "import os\n",
    "import cv2\n",
    "import numpy as np\n",
    "\n",
    "import glob\n",
    "from keras._tf_keras.keras.preprocessing.image import img_to_array\n",
    "from keras._tf_keras.keras.preprocessing.image import ImageDataGenerator\n",
    "from mtcnn import MTCNN\n",
    "from keras._tf_keras.keras.models import Sequential\n",
    "from keras._tf_keras.keras.layers import Conv2D, MaxPooling2D, Flatten, Dense, Dropout\n",
    "import tensorflow as tf"
   ]
  },
  {
   "cell_type": "code",
   "execution_count": 4,
   "metadata": {},
   "outputs": [],
   "source": [
    "# Load OpenCV's Haar Cascade Face Detector\n",
    "face_cascade = cv2.CascadeClassifier(cv2.data.haarcascades + \"haarcascade_frontalface_default.xml\")\n",
    "\n",
    "\n",
    "# Load MTCNN Face Detector\n",
    "mtcnn_detector = MTCNN()\n",
    "\n",
    "# Image Size\n",
    "IMG_SIZE = (200, 200)\n",
    "\n",
    "\n",
    "# Dataset Paths\n",
    "folder_path = \"D:/fold/Project/age_det/dataset/combined_faces/content/data\"\n",
    "\n",
    "h5_file = \"dataset.h5\"\n"
   ]
  },
  {
   "cell_type": "code",
   "execution_count": 5,
   "metadata": {},
   "outputs": [],
   "source": [
    "def load_and_preprocess(img_path):\n",
    "    img = cv2.imread(img_path)\n",
    "    if img is None:\n",
    "        print(f\"Error loading image: {img_path}\")\n",
    "        return None\n",
    "    \n",
    "    img = cv2.cvtColor(img, cv2.COLOR_BGR2RGB)\n",
    "    img = cv2.resize(img, IMG_SIZE)\n",
    "    img = img.astype(\"float32\") / 255.0\n",
    "    return img_to_array(img)"
   ]
  },
  {
   "cell_type": "code",
   "execution_count": 6,
   "metadata": {},
   "outputs": [],
   "source": [
    "def detect_and_crop_face(img_path):\n",
    "    img = cv2.imread(img_path)\n",
    "    if img is None:\n",
    "        print(f\"Error: Unable to read {img_path}\")\n",
    "        return None\n",
    "\n",
    "    gray = cv2.cvtColor(img, cv2.COLOR_BGR2GRAY)\n",
    "    \n",
    "    # Try Haar Cascade\n",
    "    faces = face_cascade.detectMultiScale(gray, scaleFactor=1.02, minNeighbors=4, minSize=(30, 30))\n",
    "\n",
    "    \n",
    "    if len(faces) == 0:\n",
    "        # Try MTCNN\n",
    "        mtcnn_faces = mtcnn_detector.detect_faces(cv2.cvtColor(img, cv2.COLOR_BGR2RGB))\n",
    "        if len(mtcnn_faces) > 0:\n",
    "            x, y, w, h = mtcnn_faces[0]['box']\n",
    "        else:\n",
    "            print(f\"No face detected in {img_path}\")\n",
    "            return None\n",
    "    else:\n",
    "        x, y, w, h = faces[0]\n",
    "    \n",
    "    # Crop and resize face\n",
    "    face = img[y:y+h, x:x+w]\n",
    "    face = cv2.resize(face, IMG_SIZE)\n",
    "    return face.astype(\"float32\") / 255.0"
   ]
  },
  {
   "cell_type": "code",
   "execution_count": 7,
   "metadata": {},
   "outputs": [],
   "source": [
    "# Load Images from Folder\n",
    "\n",
    "# Load Images from Folder\n",
    "def load_img_folder(folder_path):\n",
    "    img_data = []\n",
    "    if not os.path.exists(folder_path):\n",
    "        raise FileNotFoundError(f\"Folder not found: {folder_path}\")\n",
    "    \n",
    "    image_files = [f for f in os.listdir(folder_path) if f.lower().endswith((\".jpg\", \".png\", \".jpeg\"))]\n",
    "    if not image_files:\n",
    "        print(\" No images found in dataset folder!\")\n",
    "        return np.array([])\n",
    "    \n",
    "    for filename in image_files:\n",
    "        img_path = os.path.join(folder_path, filename)\n",
    "        img_array = load_and_preprocess(img_path)\n",
    "        if img_array is not None:\n",
    "            img_data.append(img_array)\n",
    "    \n",
    "    return np.array(img_data)"
   ]
  },
  {
   "cell_type": "code",
   "execution_count": 8,
   "metadata": {},
   "outputs": [],
   "source": [
    "def age_accuracy(y_true, y_pred, threshold=5):\n",
    "    \"\"\"Returns the percentage of predictions within ±5 years of actual age\"\"\"\n",
    "    correct = tf.abs(y_true - y_pred) <= threshold\n",
    "    return tf.reduce_mean(tf.cast(correct, tf.float32))"
   ]
  },
  {
   "cell_type": "code",
   "execution_count": 10,
   "metadata": {},
   "outputs": [
    {
     "name": "stdout",
     "output_type": "stream",
     "text": [
      " Dataset Loaded: 33486 images\n"
     ]
    }
   ],
   "source": [
    "# Load Processed Dataset\n",
    "X_train, y_train = [], []\n",
    "image_paths = glob.glob(os.path.join(folder_path, \"*.jpg\"))\n",
    "\n",
    "for img_path in image_paths:\n",
    "    try:\n",
    "        filename = os.path.basename(img_path)\n",
    "        age = int(filename.split(\"_\")[0])\n",
    "        img = load_and_preprocess(img_path)\n",
    "        if img is not None:\n",
    "            X_train.append(img)\n",
    "            y_train.append(age)\n",
    "    except Exception as e:\n",
    "        print(f\" Skipping {img_path}: {e}\")\n",
    "\n",
    "X_train = np.array(X_train, dtype=\"float32\")\n",
    "y_train = np.array(y_train, dtype=\"float32\")\n",
    "print(f\" Dataset Loaded: {X_train.shape[0]} images\")\n"
   ]
  },
  {
   "cell_type": "code",
   "execution_count": 11,
   "metadata": {},
   "outputs": [
    {
     "name": "stderr",
     "output_type": "stream",
     "text": [
      "d:\\fold\\Project\\age_det\\lib\\site-packages\\keras\\src\\layers\\convolutional\\base_conv.py:107: UserWarning: Do not pass an `input_shape`/`input_dim` argument to a layer. When using Sequential models, prefer using an `Input(shape)` object as the first layer in the model instead.\n",
      "  super().__init__(activity_regularizer=activity_regularizer, **kwargs)\n"
     ]
    }
   ],
   "source": [
    "# Model Architecture\n",
    "model = Sequential([\n",
    "    Conv2D(32, (3, 3), activation='relu', input_shape=(200, 200, 3)),\n",
    "    MaxPooling2D(pool_size=(2, 2)),\n",
    "    Conv2D(64, (3, 3), activation='relu'),\n",
    "    MaxPooling2D(pool_size=(2, 2)),\n",
    "    Conv2D(128, (3, 3), activation='relu'),\n",
    "    MaxPooling2D(pool_size=(2, 2)),\n",
    "    Flatten(),\n",
    "    Dense(256, activation='relu'),\n",
    "    Dropout(0.5),\n",
    "    Dense(1, activation='linear')  # Regression output for age\n",
    "])"
   ]
  },
  {
   "cell_type": "code",
   "execution_count": 12,
   "metadata": {},
   "outputs": [
    {
     "data": {
      "text/html": [
       "<pre style=\"white-space:pre;overflow-x:auto;line-height:normal;font-family:Menlo,'DejaVu Sans Mono',consolas,'Courier New',monospace\"><span style=\"font-weight: bold\">Model: \"sequential\"</span>\n",
       "</pre>\n"
      ],
      "text/plain": [
       "\u001b[1mModel: \"sequential\"\u001b[0m\n"
      ]
     },
     "metadata": {},
     "output_type": "display_data"
    },
    {
     "data": {
      "text/html": [
       "<pre style=\"white-space:pre;overflow-x:auto;line-height:normal;font-family:Menlo,'DejaVu Sans Mono',consolas,'Courier New',monospace\">┏━━━━━━━━━━━━━━━━━━━━━━━━━━━━━━━━━┳━━━━━━━━━━━━━━━━━━━━━━━━┳━━━━━━━━━━━━━━━┓\n",
       "┃<span style=\"font-weight: bold\"> Layer (type)                    </span>┃<span style=\"font-weight: bold\"> Output Shape           </span>┃<span style=\"font-weight: bold\">       Param # </span>┃\n",
       "┡━━━━━━━━━━━━━━━━━━━━━━━━━━━━━━━━━╇━━━━━━━━━━━━━━━━━━━━━━━━╇━━━━━━━━━━━━━━━┩\n",
       "│ conv2d (<span style=\"color: #0087ff; text-decoration-color: #0087ff\">Conv2D</span>)                 │ (<span style=\"color: #00d7ff; text-decoration-color: #00d7ff\">None</span>, <span style=\"color: #00af00; text-decoration-color: #00af00\">198</span>, <span style=\"color: #00af00; text-decoration-color: #00af00\">198</span>, <span style=\"color: #00af00; text-decoration-color: #00af00\">32</span>)   │           <span style=\"color: #00af00; text-decoration-color: #00af00\">896</span> │\n",
       "├─────────────────────────────────┼────────────────────────┼───────────────┤\n",
       "│ max_pooling2d (<span style=\"color: #0087ff; text-decoration-color: #0087ff\">MaxPooling2D</span>)    │ (<span style=\"color: #00d7ff; text-decoration-color: #00d7ff\">None</span>, <span style=\"color: #00af00; text-decoration-color: #00af00\">99</span>, <span style=\"color: #00af00; text-decoration-color: #00af00\">99</span>, <span style=\"color: #00af00; text-decoration-color: #00af00\">32</span>)     │             <span style=\"color: #00af00; text-decoration-color: #00af00\">0</span> │\n",
       "├─────────────────────────────────┼────────────────────────┼───────────────┤\n",
       "│ conv2d_1 (<span style=\"color: #0087ff; text-decoration-color: #0087ff\">Conv2D</span>)               │ (<span style=\"color: #00d7ff; text-decoration-color: #00d7ff\">None</span>, <span style=\"color: #00af00; text-decoration-color: #00af00\">97</span>, <span style=\"color: #00af00; text-decoration-color: #00af00\">97</span>, <span style=\"color: #00af00; text-decoration-color: #00af00\">64</span>)     │        <span style=\"color: #00af00; text-decoration-color: #00af00\">18,496</span> │\n",
       "├─────────────────────────────────┼────────────────────────┼───────────────┤\n",
       "│ max_pooling2d_1 (<span style=\"color: #0087ff; text-decoration-color: #0087ff\">MaxPooling2D</span>)  │ (<span style=\"color: #00d7ff; text-decoration-color: #00d7ff\">None</span>, <span style=\"color: #00af00; text-decoration-color: #00af00\">48</span>, <span style=\"color: #00af00; text-decoration-color: #00af00\">48</span>, <span style=\"color: #00af00; text-decoration-color: #00af00\">64</span>)     │             <span style=\"color: #00af00; text-decoration-color: #00af00\">0</span> │\n",
       "├─────────────────────────────────┼────────────────────────┼───────────────┤\n",
       "│ conv2d_2 (<span style=\"color: #0087ff; text-decoration-color: #0087ff\">Conv2D</span>)               │ (<span style=\"color: #00d7ff; text-decoration-color: #00d7ff\">None</span>, <span style=\"color: #00af00; text-decoration-color: #00af00\">46</span>, <span style=\"color: #00af00; text-decoration-color: #00af00\">46</span>, <span style=\"color: #00af00; text-decoration-color: #00af00\">128</span>)    │        <span style=\"color: #00af00; text-decoration-color: #00af00\">73,856</span> │\n",
       "├─────────────────────────────────┼────────────────────────┼───────────────┤\n",
       "│ max_pooling2d_2 (<span style=\"color: #0087ff; text-decoration-color: #0087ff\">MaxPooling2D</span>)  │ (<span style=\"color: #00d7ff; text-decoration-color: #00d7ff\">None</span>, <span style=\"color: #00af00; text-decoration-color: #00af00\">23</span>, <span style=\"color: #00af00; text-decoration-color: #00af00\">23</span>, <span style=\"color: #00af00; text-decoration-color: #00af00\">128</span>)    │             <span style=\"color: #00af00; text-decoration-color: #00af00\">0</span> │\n",
       "├─────────────────────────────────┼────────────────────────┼───────────────┤\n",
       "│ flatten (<span style=\"color: #0087ff; text-decoration-color: #0087ff\">Flatten</span>)               │ (<span style=\"color: #00d7ff; text-decoration-color: #00d7ff\">None</span>, <span style=\"color: #00af00; text-decoration-color: #00af00\">67712</span>)          │             <span style=\"color: #00af00; text-decoration-color: #00af00\">0</span> │\n",
       "├─────────────────────────────────┼────────────────────────┼───────────────┤\n",
       "│ dense (<span style=\"color: #0087ff; text-decoration-color: #0087ff\">Dense</span>)                   │ (<span style=\"color: #00d7ff; text-decoration-color: #00d7ff\">None</span>, <span style=\"color: #00af00; text-decoration-color: #00af00\">256</span>)            │    <span style=\"color: #00af00; text-decoration-color: #00af00\">17,334,528</span> │\n",
       "├─────────────────────────────────┼────────────────────────┼───────────────┤\n",
       "│ dropout (<span style=\"color: #0087ff; text-decoration-color: #0087ff\">Dropout</span>)               │ (<span style=\"color: #00d7ff; text-decoration-color: #00d7ff\">None</span>, <span style=\"color: #00af00; text-decoration-color: #00af00\">256</span>)            │             <span style=\"color: #00af00; text-decoration-color: #00af00\">0</span> │\n",
       "├─────────────────────────────────┼────────────────────────┼───────────────┤\n",
       "│ dense_1 (<span style=\"color: #0087ff; text-decoration-color: #0087ff\">Dense</span>)                 │ (<span style=\"color: #00d7ff; text-decoration-color: #00d7ff\">None</span>, <span style=\"color: #00af00; text-decoration-color: #00af00\">1</span>)              │           <span style=\"color: #00af00; text-decoration-color: #00af00\">257</span> │\n",
       "└─────────────────────────────────┴────────────────────────┴───────────────┘\n",
       "</pre>\n"
      ],
      "text/plain": [
       "┏━━━━━━━━━━━━━━━━━━━━━━━━━━━━━━━━━┳━━━━━━━━━━━━━━━━━━━━━━━━┳━━━━━━━━━━━━━━━┓\n",
       "┃\u001b[1m \u001b[0m\u001b[1mLayer (type)                   \u001b[0m\u001b[1m \u001b[0m┃\u001b[1m \u001b[0m\u001b[1mOutput Shape          \u001b[0m\u001b[1m \u001b[0m┃\u001b[1m \u001b[0m\u001b[1m      Param #\u001b[0m\u001b[1m \u001b[0m┃\n",
       "┡━━━━━━━━━━━━━━━━━━━━━━━━━━━━━━━━━╇━━━━━━━━━━━━━━━━━━━━━━━━╇━━━━━━━━━━━━━━━┩\n",
       "│ conv2d (\u001b[38;5;33mConv2D\u001b[0m)                 │ (\u001b[38;5;45mNone\u001b[0m, \u001b[38;5;34m198\u001b[0m, \u001b[38;5;34m198\u001b[0m, \u001b[38;5;34m32\u001b[0m)   │           \u001b[38;5;34m896\u001b[0m │\n",
       "├─────────────────────────────────┼────────────────────────┼───────────────┤\n",
       "│ max_pooling2d (\u001b[38;5;33mMaxPooling2D\u001b[0m)    │ (\u001b[38;5;45mNone\u001b[0m, \u001b[38;5;34m99\u001b[0m, \u001b[38;5;34m99\u001b[0m, \u001b[38;5;34m32\u001b[0m)     │             \u001b[38;5;34m0\u001b[0m │\n",
       "├─────────────────────────────────┼────────────────────────┼───────────────┤\n",
       "│ conv2d_1 (\u001b[38;5;33mConv2D\u001b[0m)               │ (\u001b[38;5;45mNone\u001b[0m, \u001b[38;5;34m97\u001b[0m, \u001b[38;5;34m97\u001b[0m, \u001b[38;5;34m64\u001b[0m)     │        \u001b[38;5;34m18,496\u001b[0m │\n",
       "├─────────────────────────────────┼────────────────────────┼───────────────┤\n",
       "│ max_pooling2d_1 (\u001b[38;5;33mMaxPooling2D\u001b[0m)  │ (\u001b[38;5;45mNone\u001b[0m, \u001b[38;5;34m48\u001b[0m, \u001b[38;5;34m48\u001b[0m, \u001b[38;5;34m64\u001b[0m)     │             \u001b[38;5;34m0\u001b[0m │\n",
       "├─────────────────────────────────┼────────────────────────┼───────────────┤\n",
       "│ conv2d_2 (\u001b[38;5;33mConv2D\u001b[0m)               │ (\u001b[38;5;45mNone\u001b[0m, \u001b[38;5;34m46\u001b[0m, \u001b[38;5;34m46\u001b[0m, \u001b[38;5;34m128\u001b[0m)    │        \u001b[38;5;34m73,856\u001b[0m │\n",
       "├─────────────────────────────────┼────────────────────────┼───────────────┤\n",
       "│ max_pooling2d_2 (\u001b[38;5;33mMaxPooling2D\u001b[0m)  │ (\u001b[38;5;45mNone\u001b[0m, \u001b[38;5;34m23\u001b[0m, \u001b[38;5;34m23\u001b[0m, \u001b[38;5;34m128\u001b[0m)    │             \u001b[38;5;34m0\u001b[0m │\n",
       "├─────────────────────────────────┼────────────────────────┼───────────────┤\n",
       "│ flatten (\u001b[38;5;33mFlatten\u001b[0m)               │ (\u001b[38;5;45mNone\u001b[0m, \u001b[38;5;34m67712\u001b[0m)          │             \u001b[38;5;34m0\u001b[0m │\n",
       "├─────────────────────────────────┼────────────────────────┼───────────────┤\n",
       "│ dense (\u001b[38;5;33mDense\u001b[0m)                   │ (\u001b[38;5;45mNone\u001b[0m, \u001b[38;5;34m256\u001b[0m)            │    \u001b[38;5;34m17,334,528\u001b[0m │\n",
       "├─────────────────────────────────┼────────────────────────┼───────────────┤\n",
       "│ dropout (\u001b[38;5;33mDropout\u001b[0m)               │ (\u001b[38;5;45mNone\u001b[0m, \u001b[38;5;34m256\u001b[0m)            │             \u001b[38;5;34m0\u001b[0m │\n",
       "├─────────────────────────────────┼────────────────────────┼───────────────┤\n",
       "│ dense_1 (\u001b[38;5;33mDense\u001b[0m)                 │ (\u001b[38;5;45mNone\u001b[0m, \u001b[38;5;34m1\u001b[0m)              │           \u001b[38;5;34m257\u001b[0m │\n",
       "└─────────────────────────────────┴────────────────────────┴───────────────┘\n"
      ]
     },
     "metadata": {},
     "output_type": "display_data"
    },
    {
     "data": {
      "text/html": [
       "<pre style=\"white-space:pre;overflow-x:auto;line-height:normal;font-family:Menlo,'DejaVu Sans Mono',consolas,'Courier New',monospace\"><span style=\"font-weight: bold\"> Total params: </span><span style=\"color: #00af00; text-decoration-color: #00af00\">17,428,033</span> (66.48 MB)\n",
       "</pre>\n"
      ],
      "text/plain": [
       "\u001b[1m Total params: \u001b[0m\u001b[38;5;34m17,428,033\u001b[0m (66.48 MB)\n"
      ]
     },
     "metadata": {},
     "output_type": "display_data"
    },
    {
     "data": {
      "text/html": [
       "<pre style=\"white-space:pre;overflow-x:auto;line-height:normal;font-family:Menlo,'DejaVu Sans Mono',consolas,'Courier New',monospace\"><span style=\"font-weight: bold\"> Trainable params: </span><span style=\"color: #00af00; text-decoration-color: #00af00\">17,428,033</span> (66.48 MB)\n",
       "</pre>\n"
      ],
      "text/plain": [
       "\u001b[1m Trainable params: \u001b[0m\u001b[38;5;34m17,428,033\u001b[0m (66.48 MB)\n"
      ]
     },
     "metadata": {},
     "output_type": "display_data"
    },
    {
     "data": {
      "text/html": [
       "<pre style=\"white-space:pre;overflow-x:auto;line-height:normal;font-family:Menlo,'DejaVu Sans Mono',consolas,'Courier New',monospace\"><span style=\"font-weight: bold\"> Non-trainable params: </span><span style=\"color: #00af00; text-decoration-color: #00af00\">0</span> (0.00 B)\n",
       "</pre>\n"
      ],
      "text/plain": [
       "\u001b[1m Non-trainable params: \u001b[0m\u001b[38;5;34m0\u001b[0m (0.00 B)\n"
      ]
     },
     "metadata": {},
     "output_type": "display_data"
    }
   ],
   "source": [
    "# Compile and Train Model\n",
    "model.compile(optimizer='adam', loss='mean_squared_error', metrics=['mae', age_accuracy])\n",
    "model.summary()"
   ]
  },
  {
   "cell_type": "code",
   "execution_count": 13,
   "metadata": {},
   "outputs": [
    {
     "name": "stdout",
     "output_type": "stream",
     "text": [
      "Epoch 1/40\n",
      "\u001b[1m419/419\u001b[0m \u001b[32m━━━━━━━━━━━━━━━━━━━━\u001b[0m\u001b[37m\u001b[0m \u001b[1m226s\u001b[0m 532ms/step - age_accuracy: 0.2305 - loss: 265.4928 - mae: 12.4329 - val_age_accuracy: 0.0393 - val_loss: 896.7266 - val_mae: 26.6887\n",
      "Epoch 2/40\n",
      "\u001b[1m419/419\u001b[0m \u001b[32m━━━━━━━━━━━━━━━━━━━━\u001b[0m\u001b[37m\u001b[0m \u001b[1m211s\u001b[0m 503ms/step - age_accuracy: 0.2243 - loss: 106.1319 - mae: 7.8333 - val_age_accuracy: 0.1105 - val_loss: 902.2598 - val_mae: 25.7380\n",
      "Epoch 3/40\n",
      "\u001b[1m419/419\u001b[0m \u001b[32m━━━━━━━━━━━━━━━━━━━━\u001b[0m\u001b[37m\u001b[0m \u001b[1m203s\u001b[0m 484ms/step - age_accuracy: 0.2221 - loss: 87.4407 - mae: 7.0311 - val_age_accuracy: 0.1082 - val_loss: 674.6238 - val_mae: 22.0344\n",
      "Epoch 4/40\n",
      "\u001b[1m419/419\u001b[0m \u001b[32m━━━━━━━━━━━━━━━━━━━━\u001b[0m\u001b[37m\u001b[0m \u001b[1m204s\u001b[0m 488ms/step - age_accuracy: 0.2187 - loss: 77.3712 - mae: 6.5902 - val_age_accuracy: 0.1466 - val_loss: 722.5463 - val_mae: 22.6076\n",
      "Epoch 5/40\n",
      "\u001b[1m419/419\u001b[0m \u001b[32m━━━━━━━━━━━━━━━━━━━━\u001b[0m\u001b[37m\u001b[0m \u001b[1m214s\u001b[0m 510ms/step - age_accuracy: 0.2180 - loss: 67.4866 - mae: 6.1290 - val_age_accuracy: 0.1605 - val_loss: 498.9493 - val_mae: 18.3934\n",
      "Epoch 6/40\n",
      "\u001b[1m419/419\u001b[0m \u001b[32m━━━━━━━━━━━━━━━━━━━━\u001b[0m\u001b[37m\u001b[0m \u001b[1m223s\u001b[0m 531ms/step - age_accuracy: 0.2184 - loss: 61.3257 - mae: 5.8510 - val_age_accuracy: 0.1844 - val_loss: 432.5291 - val_mae: 16.8501\n",
      "Epoch 7/40\n",
      "\u001b[1m419/419\u001b[0m \u001b[32m━━━━━━━━━━━━━━━━━━━━\u001b[0m\u001b[37m\u001b[0m \u001b[1m223s\u001b[0m 532ms/step - age_accuracy: 0.2159 - loss: 57.3193 - mae: 5.6389 - val_age_accuracy: 0.2081 - val_loss: 395.1559 - val_mae: 15.8701\n",
      "Epoch 8/40\n",
      "\u001b[1m419/419\u001b[0m \u001b[32m━━━━━━━━━━━━━━━━━━━━\u001b[0m\u001b[37m\u001b[0m \u001b[1m220s\u001b[0m 525ms/step - age_accuracy: 0.2165 - loss: 50.1950 - mae: 5.2913 - val_age_accuracy: 0.1873 - val_loss: 532.5356 - val_mae: 18.7095\n",
      "Epoch 9/40\n",
      "\u001b[1m419/419\u001b[0m \u001b[32m━━━━━━━━━━━━━━━━━━━━\u001b[0m\u001b[37m\u001b[0m \u001b[1m203s\u001b[0m 485ms/step - age_accuracy: 0.2152 - loss: 48.6561 - mae: 5.2088 - val_age_accuracy: 0.1841 - val_loss: 541.6176 - val_mae: 19.0523\n",
      "Epoch 10/40\n",
      "\u001b[1m419/419\u001b[0m \u001b[32m━━━━━━━━━━━━━━━━━━━━\u001b[0m\u001b[37m\u001b[0m \u001b[1m191s\u001b[0m 456ms/step - age_accuracy: 0.2156 - loss: 46.2006 - mae: 5.0513 - val_age_accuracy: 0.2030 - val_loss: 484.2390 - val_mae: 17.7431\n",
      "Epoch 11/40\n",
      "\u001b[1m419/419\u001b[0m \u001b[32m━━━━━━━━━━━━━━━━━━━━\u001b[0m\u001b[37m\u001b[0m \u001b[1m192s\u001b[0m 457ms/step - age_accuracy: 0.2162 - loss: 43.4596 - mae: 4.8337 - val_age_accuracy: 0.1960 - val_loss: 384.5214 - val_mae: 15.8014\n",
      "Epoch 12/40\n",
      "\u001b[1m419/419\u001b[0m \u001b[32m━━━━━━━━━━━━━━━━━━━━\u001b[0m\u001b[37m\u001b[0m \u001b[1m191s\u001b[0m 455ms/step - age_accuracy: 0.2153 - loss: 38.3447 - mae: 4.6082 - val_age_accuracy: 0.2116 - val_loss: 487.0673 - val_mae: 17.7404\n",
      "Epoch 13/40\n",
      "\u001b[1m419/419\u001b[0m \u001b[32m━━━━━━━━━━━━━━━━━━━━\u001b[0m\u001b[37m\u001b[0m \u001b[1m191s\u001b[0m 455ms/step - age_accuracy: 0.2139 - loss: 35.7512 - mae: 4.4132 - val_age_accuracy: 0.2070 - val_loss: 482.6690 - val_mae: 17.6158\n",
      "Epoch 14/40\n",
      "\u001b[1m419/419\u001b[0m \u001b[32m━━━━━━━━━━━━━━━━━━━━\u001b[0m\u001b[37m\u001b[0m \u001b[1m195s\u001b[0m 466ms/step - age_accuracy: 0.2175 - loss: 35.7117 - mae: 4.4284 - val_age_accuracy: 0.2172 - val_loss: 422.3028 - val_mae: 16.3350\n",
      "Epoch 15/40\n",
      "\u001b[1m419/419\u001b[0m \u001b[32m━━━━━━━━━━━━━━━━━━━━\u001b[0m\u001b[37m\u001b[0m \u001b[1m189s\u001b[0m 450ms/step - age_accuracy: 0.2147 - loss: 32.4226 - mae: 4.2014 - val_age_accuracy: 0.2048 - val_loss: 459.1553 - val_mae: 17.2188\n",
      "Epoch 16/40\n",
      "\u001b[1m419/419\u001b[0m \u001b[32m━━━━━━━━━━━━━━━━━━━━\u001b[0m\u001b[37m\u001b[0m \u001b[1m193s\u001b[0m 460ms/step - age_accuracy: 0.2151 - loss: 31.3057 - mae: 4.1399 - val_age_accuracy: 0.2286 - val_loss: 388.8845 - val_mae: 15.5826\n",
      "Epoch 17/40\n",
      "\u001b[1m419/419\u001b[0m \u001b[32m━━━━━━━━━━━━━━━━━━━━\u001b[0m\u001b[37m\u001b[0m \u001b[1m192s\u001b[0m 458ms/step - age_accuracy: 0.2142 - loss: 30.2315 - mae: 4.0520 - val_age_accuracy: 0.1945 - val_loss: 414.7266 - val_mae: 16.3349\n",
      "Epoch 18/40\n",
      "\u001b[1m419/419\u001b[0m \u001b[32m━━━━━━━━━━━━━━━━━━━━\u001b[0m\u001b[37m\u001b[0m \u001b[1m192s\u001b[0m 457ms/step - age_accuracy: 0.2168 - loss: 29.3055 - mae: 4.0157 - val_age_accuracy: 0.1973 - val_loss: 460.9776 - val_mae: 17.2707\n",
      "Epoch 19/40\n",
      "\u001b[1m419/419\u001b[0m \u001b[32m━━━━━━━━━━━━━━━━━━━━\u001b[0m\u001b[37m\u001b[0m \u001b[1m193s\u001b[0m 460ms/step - age_accuracy: 0.2155 - loss: 28.4922 - mae: 3.9586 - val_age_accuracy: 0.2051 - val_loss: 456.1068 - val_mae: 17.1124\n",
      "Epoch 20/40\n",
      "\u001b[1m419/419\u001b[0m \u001b[32m━━━━━━━━━━━━━━━━━━━━\u001b[0m\u001b[37m\u001b[0m \u001b[1m191s\u001b[0m 455ms/step - age_accuracy: 0.2150 - loss: 27.3415 - mae: 3.8666 - val_age_accuracy: 0.2055 - val_loss: 452.8204 - val_mae: 17.0582\n",
      "Epoch 21/40\n",
      "\u001b[1m419/419\u001b[0m \u001b[32m━━━━━━━━━━━━━━━━━━━━\u001b[0m\u001b[37m\u001b[0m \u001b[1m192s\u001b[0m 458ms/step - age_accuracy: 0.2181 - loss: 26.5871 - mae: 3.7615 - val_age_accuracy: 0.1721 - val_loss: 497.4790 - val_mae: 18.2512\n",
      "Epoch 22/40\n",
      "\u001b[1m419/419\u001b[0m \u001b[32m━━━━━━━━━━━━━━━━━━━━\u001b[0m\u001b[37m\u001b[0m \u001b[1m191s\u001b[0m 456ms/step - age_accuracy: 0.2155 - loss: 24.9711 - mae: 3.6958 - val_age_accuracy: 0.2055 - val_loss: 481.2311 - val_mae: 17.5427\n",
      "Epoch 23/40\n",
      "\u001b[1m419/419\u001b[0m \u001b[32m━━━━━━━━━━━━━━━━━━━━\u001b[0m\u001b[37m\u001b[0m \u001b[1m191s\u001b[0m 456ms/step - age_accuracy: 0.2163 - loss: 25.6145 - mae: 3.7346 - val_age_accuracy: 0.2018 - val_loss: 425.7806 - val_mae: 16.5105\n",
      "Epoch 24/40\n",
      "\u001b[1m419/419\u001b[0m \u001b[32m━━━━━━━━━━━━━━━━━━━━\u001b[0m\u001b[37m\u001b[0m \u001b[1m192s\u001b[0m 458ms/step - age_accuracy: 0.2154 - loss: 24.7332 - mae: 3.6598 - val_age_accuracy: 0.1973 - val_loss: 406.6976 - val_mae: 16.1978\n",
      "Epoch 25/40\n",
      "\u001b[1m419/419\u001b[0m \u001b[32m━━━━━━━━━━━━━━━━━━━━\u001b[0m\u001b[37m\u001b[0m \u001b[1m194s\u001b[0m 464ms/step - age_accuracy: 0.2155 - loss: 24.9557 - mae: 3.6896 - val_age_accuracy: 0.2059 - val_loss: 406.2981 - val_mae: 16.0957\n",
      "Epoch 26/40\n",
      "\u001b[1m419/419\u001b[0m \u001b[32m━━━━━━━━━━━━━━━━━━━━\u001b[0m\u001b[37m\u001b[0m \u001b[1m192s\u001b[0m 459ms/step - age_accuracy: 0.2160 - loss: 23.1206 - mae: 3.5616 - val_age_accuracy: 0.1961 - val_loss: 530.7048 - val_mae: 18.6561\n",
      "Epoch 27/40\n",
      "\u001b[1m419/419\u001b[0m \u001b[32m━━━━━━━━━━━━━━━━━━━━\u001b[0m\u001b[37m\u001b[0m \u001b[1m189s\u001b[0m 452ms/step - age_accuracy: 0.2158 - loss: 22.9246 - mae: 3.5465 - val_age_accuracy: 0.2106 - val_loss: 461.0507 - val_mae: 17.1910\n",
      "Epoch 28/40\n",
      "\u001b[1m419/419\u001b[0m \u001b[32m━━━━━━━━━━━━━━━━━━━━\u001b[0m\u001b[37m\u001b[0m \u001b[1m192s\u001b[0m 459ms/step - age_accuracy: 0.2167 - loss: 24.0446 - mae: 3.6224 - val_age_accuracy: 0.1891 - val_loss: 499.6250 - val_mae: 18.1012\n",
      "Epoch 29/40\n",
      "\u001b[1m419/419\u001b[0m \u001b[32m━━━━━━━━━━━━━━━━━━━━\u001b[0m\u001b[37m\u001b[0m \u001b[1m191s\u001b[0m 456ms/step - age_accuracy: 0.2164 - loss: 21.4423 - mae: 3.4382 - val_age_accuracy: 0.2035 - val_loss: 452.5142 - val_mae: 17.0476\n",
      "Epoch 30/40\n",
      "\u001b[1m419/419\u001b[0m \u001b[32m━━━━━━━━━━━━━━━━━━━━\u001b[0m\u001b[37m\u001b[0m \u001b[1m191s\u001b[0m 456ms/step - age_accuracy: 0.2158 - loss: 23.1878 - mae: 3.5532 - val_age_accuracy: 0.2040 - val_loss: 466.8635 - val_mae: 17.3559\n",
      "Epoch 31/40\n",
      "\u001b[1m419/419\u001b[0m \u001b[32m━━━━━━━━━━━━━━━━━━━━\u001b[0m\u001b[37m\u001b[0m \u001b[1m189s\u001b[0m 451ms/step - age_accuracy: 0.2170 - loss: 22.3160 - mae: 3.4670 - val_age_accuracy: 0.1917 - val_loss: 508.4955 - val_mae: 18.1496\n",
      "Epoch 32/40\n",
      "\u001b[1m419/419\u001b[0m \u001b[32m━━━━━━━━━━━━━━━━━━━━\u001b[0m\u001b[37m\u001b[0m \u001b[1m190s\u001b[0m 454ms/step - age_accuracy: 0.2171 - loss: 21.2000 - mae: 3.4341 - val_age_accuracy: 0.1933 - val_loss: 492.3614 - val_mae: 17.9291\n",
      "Epoch 33/40\n",
      "\u001b[1m419/419\u001b[0m \u001b[32m━━━━━━━━━━━━━━━━━━━━\u001b[0m\u001b[37m\u001b[0m \u001b[1m189s\u001b[0m 451ms/step - age_accuracy: 0.2161 - loss: 21.7039 - mae: 3.4349 - val_age_accuracy: 0.2092 - val_loss: 429.1189 - val_mae: 16.5563\n",
      "Epoch 34/40\n",
      "\u001b[1m419/419\u001b[0m \u001b[32m━━━━━━━━━━━━━━━━━━━━\u001b[0m\u001b[37m\u001b[0m \u001b[1m190s\u001b[0m 454ms/step - age_accuracy: 0.2167 - loss: 19.6609 - mae: 3.2891 - val_age_accuracy: 0.2060 - val_loss: 446.3364 - val_mae: 16.9541\n",
      "Epoch 35/40\n",
      "\u001b[1m419/419\u001b[0m \u001b[32m━━━━━━━━━━━━━━━━━━━━\u001b[0m\u001b[37m\u001b[0m \u001b[1m190s\u001b[0m 453ms/step - age_accuracy: 0.2169 - loss: 20.0981 - mae: 3.3195 - val_age_accuracy: 0.1943 - val_loss: 540.5322 - val_mae: 18.9162\n",
      "Epoch 36/40\n",
      "\u001b[1m419/419\u001b[0m \u001b[32m━━━━━━━━━━━━━━━━━━━━\u001b[0m\u001b[37m\u001b[0m \u001b[1m189s\u001b[0m 452ms/step - age_accuracy: 0.2216 - loss: 19.2290 - mae: 3.2498 - val_age_accuracy: 0.2091 - val_loss: 404.9612 - val_mae: 16.0831\n",
      "Epoch 37/40\n",
      "\u001b[1m419/419\u001b[0m \u001b[32m━━━━━━━━━━━━━━━━━━━━\u001b[0m\u001b[37m\u001b[0m \u001b[1m187s\u001b[0m 445ms/step - age_accuracy: 0.2174 - loss: 20.0675 - mae: 3.3305 - val_age_accuracy: 0.2096 - val_loss: 462.3938 - val_mae: 17.2595\n",
      "Epoch 38/40\n",
      "\u001b[1m419/419\u001b[0m \u001b[32m━━━━━━━━━━━━━━━━━━━━\u001b[0m\u001b[37m\u001b[0m \u001b[1m187s\u001b[0m 446ms/step - age_accuracy: 0.2149 - loss: 19.7119 - mae: 3.2799 - val_age_accuracy: 0.2188 - val_loss: 450.1328 - val_mae: 16.9225\n",
      "Epoch 39/40\n",
      "\u001b[1m419/419\u001b[0m \u001b[32m━━━━━━━━━━━━━━━━━━━━\u001b[0m\u001b[37m\u001b[0m \u001b[1m187s\u001b[0m 446ms/step - age_accuracy: 0.2160 - loss: 18.7956 - mae: 3.1994 - val_age_accuracy: 0.1801 - val_loss: 552.4151 - val_mae: 19.1786\n",
      "Epoch 40/40\n",
      "\u001b[1m419/419\u001b[0m \u001b[32m━━━━━━━━━━━━━━━━━━━━\u001b[0m\u001b[37m\u001b[0m \u001b[1m187s\u001b[0m 446ms/step - age_accuracy: 0.2158 - loss: 19.5089 - mae: 3.2615 - val_age_accuracy: 0.1971 - val_loss: 490.0220 - val_mae: 17.8910\n"
     ]
    },
    {
     "data": {
      "text/plain": [
       "<keras.src.callbacks.history.History at 0x21caf536ce0>"
      ]
     },
     "execution_count": 13,
     "metadata": {},
     "output_type": "execute_result"
    }
   ],
   "source": [
    "model.fit(X_train, y_train, batch_size=64, epochs=40, validation_split=0.2)"
   ]
  },
  {
   "cell_type": "code",
   "execution_count": 14,
   "metadata": {},
   "outputs": [
    {
     "name": "stderr",
     "output_type": "stream",
     "text": [
      "WARNING:absl:You are saving your model as an HDF5 file via `model.save()` or `keras.saving.save_model(model)`. This file format is considered legacy. We recommend using instead the native Keras format, e.g. `model.save('my_model.keras')` or `keras.saving.save_model(model, 'my_model.keras')`. \n"
     ]
    },
    {
     "name": "stdout",
     "output_type": "stream",
     "text": [
      " Model saved successfully!\n"
     ]
    }
   ],
   "source": [
    "# Save Model\n",
    "model.save(\"age_detection_model.h5\")\n",
    "print(\" Model saved successfully!\")"
   ]
  }
 ],
 "metadata": {
  "kernelspec": {
   "display_name": "age_det",
   "language": "python",
   "name": "python3"
  },
  "language_info": {
   "codemirror_mode": {
    "name": "ipython",
    "version": 3
   },
   "file_extension": ".py",
   "mimetype": "text/x-python",
   "name": "python",
   "nbconvert_exporter": "python",
   "pygments_lexer": "ipython3",
   "version": "3.10.11"
  }
 },
 "nbformat": 4,
 "nbformat_minor": 2
}
